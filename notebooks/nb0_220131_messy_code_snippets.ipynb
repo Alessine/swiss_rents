{
 "cells": [
  {
   "cell_type": "markdown",
   "id": "c7736b7f-b3b7-4843-aa1c-13311c0161a9",
   "metadata": {},
   "source": [
    "# Swiss rental prices"
   ]
  },
  {
   "cell_type": "code",
   "execution_count": 1,
   "id": "6b05977f-9a80-4f20-8920-4199b2dbd00c",
   "metadata": {},
   "outputs": [],
   "source": [
    "import pandas as pd\n",
    "import numpy as np\n",
    "import requests\n",
    "import json\n",
    "import matplotlib.pyplot as plt"
   ]
  },
  {
   "cell_type": "markdown",
   "id": "8aa271d9-3027-4039-a374-5b6d7850551b",
   "metadata": {},
   "source": [
    "## Full Dataset"
   ]
  },
  {
   "cell_type": "code",
   "execution_count": 46,
   "id": "96f9d7d4-5f15-4dfe-b767-10f49812d18e",
   "metadata": {},
   "outputs": [
    {
     "data": {
      "text/html": [
       "<div>\n",
       "<style scoped>\n",
       "    .dataframe tbody tr th:only-of-type {\n",
       "        vertical-align: middle;\n",
       "    }\n",
       "\n",
       "    .dataframe tbody tr th {\n",
       "        vertical-align: top;\n",
       "    }\n",
       "\n",
       "    .dataframe thead th {\n",
       "        text-align: right;\n",
       "    }\n",
       "</style>\n",
       "<table border=\"1\" class=\"dataframe\">\n",
       "  <thead>\n",
       "    <tr style=\"text-align: right;\">\n",
       "      <th></th>\n",
       "      <th>ID</th>\n",
       "      <th>Jahr</th>\n",
       "      <th>Quartal</th>\n",
       "      <th>Wohnungstyp</th>\n",
       "      <th>Zimmer</th>\n",
       "      <th>Fläche</th>\n",
       "      <th>Mietpreis_Brutto</th>\n",
       "      <th>Quadratmeterpreis_Brutto</th>\n",
       "      <th>Adresse</th>\n",
       "      <th>PLZ_Ort</th>\n",
       "      <th>Bezugsdatum</th>\n",
       "      <th>GKODE</th>\n",
       "      <th>GKODN</th>\n",
       "      <th>KT,</th>\n",
       "    </tr>\n",
       "  </thead>\n",
       "  <tbody>\n",
       "    <tr>\n",
       "      <th>0</th>\n",
       "      <td>1</td>\n",
       "      <td>2019</td>\n",
       "      <td>4</td>\n",
       "      <td>Wohnung</td>\n",
       "      <td>4.5</td>\n",
       "      <td>NaN</td>\n",
       "      <td>1850</td>\n",
       "      <td>NaN</td>\n",
       "      <td>Aachstrasse 13</td>\n",
       "      <td>9327 Tübach</td>\n",
       "      <td>NaN</td>\n",
       "      <td>2752059.0</td>\n",
       "      <td>1261281.0</td>\n",
       "      <td>SG,</td>\n",
       "    </tr>\n",
       "    <tr>\n",
       "      <th>1</th>\n",
       "      <td>2</td>\n",
       "      <td>2019</td>\n",
       "      <td>2</td>\n",
       "      <td>Wohnung</td>\n",
       "      <td>3.5</td>\n",
       "      <td>75.0</td>\n",
       "      <td>1180</td>\n",
       "      <td>16.0</td>\n",
       "      <td>Aachstrasse 29</td>\n",
       "      <td>8586 Erlen</td>\n",
       "      <td>NaN</td>\n",
       "      <td>2734483.0</td>\n",
       "      <td>1268102.0</td>\n",
       "      <td>TG,</td>\n",
       "    </tr>\n",
       "    <tr>\n",
       "      <th>2</th>\n",
       "      <td>3</td>\n",
       "      <td>2019</td>\n",
       "      <td>4</td>\n",
       "      <td>Maisonettewohnung</td>\n",
       "      <td>3.5</td>\n",
       "      <td>NaN</td>\n",
       "      <td>1400</td>\n",
       "      <td>NaN</td>\n",
       "      <td>Aachstrasse 31b</td>\n",
       "      <td>8586 Erlen</td>\n",
       "      <td>NaN</td>\n",
       "      <td>2734427.0</td>\n",
       "      <td>1268073.0</td>\n",
       "      <td>TG,</td>\n",
       "    </tr>\n",
       "    <tr>\n",
       "      <th>3</th>\n",
       "      <td>4</td>\n",
       "      <td>2019</td>\n",
       "      <td>2</td>\n",
       "      <td>Wohnung</td>\n",
       "      <td>4.5</td>\n",
       "      <td>NaN</td>\n",
       "      <td>1750</td>\n",
       "      <td>NaN</td>\n",
       "      <td>Aachstrasse 5</td>\n",
       "      <td>9327 Tübach</td>\n",
       "      <td>NaN</td>\n",
       "      <td>2751994.0</td>\n",
       "      <td>1261267.0</td>\n",
       "      <td>SG,</td>\n",
       "    </tr>\n",
       "    <tr>\n",
       "      <th>4</th>\n",
       "      <td>5</td>\n",
       "      <td>2019</td>\n",
       "      <td>2</td>\n",
       "      <td>Wohnung</td>\n",
       "      <td>5.5</td>\n",
       "      <td>NaN</td>\n",
       "      <td>2450</td>\n",
       "      <td>NaN</td>\n",
       "      <td>Aachstrasse 5</td>\n",
       "      <td>9327 Tübach</td>\n",
       "      <td>NaN</td>\n",
       "      <td>2751994.0</td>\n",
       "      <td>1261267.0</td>\n",
       "      <td>SG,</td>\n",
       "    </tr>\n",
       "  </tbody>\n",
       "</table>\n",
       "</div>"
      ],
      "text/plain": [
       "   ID  Jahr  Quartal        Wohnungstyp  Zimmer  Fläche  Mietpreis_Brutto  \\\n",
       "0   1  2019        4            Wohnung     4.5     NaN              1850   \n",
       "1   2  2019        2            Wohnung     3.5    75.0              1180   \n",
       "2   3  2019        4  Maisonettewohnung     3.5     NaN              1400   \n",
       "3   4  2019        2            Wohnung     4.5     NaN              1750   \n",
       "4   5  2019        2            Wohnung     5.5     NaN              2450   \n",
       "\n",
       "   Quadratmeterpreis_Brutto          Adresse      PLZ_Ort Bezugsdatum  \\\n",
       "0                       NaN   Aachstrasse 13  9327 Tübach         NaN   \n",
       "1                      16.0   Aachstrasse 29   8586 Erlen         NaN   \n",
       "2                       NaN  Aachstrasse 31b   8586 Erlen         NaN   \n",
       "3                       NaN    Aachstrasse 5  9327 Tübach         NaN   \n",
       "4                       NaN    Aachstrasse 5  9327 Tübach         NaN   \n",
       "\n",
       "       GKODE      GKODN  KT,  \n",
       "0  2752059.0  1261281.0  SG,  \n",
       "1  2734483.0  1268102.0  TG,  \n",
       "2  2734427.0  1268073.0  TG,  \n",
       "3  2751994.0  1261267.0  SG,  \n",
       "4  2751994.0  1261267.0  SG,  "
      ]
     },
     "execution_count": 46,
     "metadata": {},
     "output_type": "execute_result"
    }
   ],
   "source": [
    "# Data from: https://datenportal.info/wohnungsmarkt/wohnungsmieten/\n",
    "\n",
    "rents_df = pd.read_csv(\"mietinserate_v1.csv\", sep=\";\")\n",
    "rents_df.head()"
   ]
  },
  {
   "cell_type": "markdown",
   "id": "6bfaf26c-9ed2-4f06-80e8-dac25b93c4df",
   "metadata": {},
   "source": [
    "### Test/Train Split"
   ]
  },
  {
   "cell_type": "code",
   "execution_count": null,
   "id": "e429162b-2817-4816-a878-3afc1aaf5996",
   "metadata": {},
   "outputs": [],
   "source": [
    "from sklearn.model_selection import train_test_split\n",
    "\n",
    "X_train, X_test, y_train, y_test = train_test_split(\n",
    "    X, y, test_size=0.33, random_state=42)"
   ]
  },
  {
   "cell_type": "markdown",
   "id": "74ae869c-3091-4245-9f5b-a2089837ca3d",
   "metadata": {},
   "source": [
    "### Basic Cleaning"
   ]
  },
  {
   "cell_type": "code",
   "execution_count": 3,
   "id": "7da0f75d-70f4-421f-9232-732186dc24b8",
   "metadata": {},
   "outputs": [
    {
     "data": {
      "text/html": [
       "<div>\n",
       "<style scoped>\n",
       "    .dataframe tbody tr th:only-of-type {\n",
       "        vertical-align: middle;\n",
       "    }\n",
       "\n",
       "    .dataframe tbody tr th {\n",
       "        vertical-align: top;\n",
       "    }\n",
       "\n",
       "    .dataframe thead th {\n",
       "        text-align: right;\n",
       "    }\n",
       "</style>\n",
       "<table border=\"1\" class=\"dataframe\">\n",
       "  <thead>\n",
       "    <tr style=\"text-align: right;\">\n",
       "      <th></th>\n",
       "      <th>Jahr</th>\n",
       "      <th>Quartal</th>\n",
       "      <th>Wohnungstyp</th>\n",
       "      <th>Zimmer</th>\n",
       "      <th>Fläche</th>\n",
       "      <th>Mietpreis_Brutto</th>\n",
       "      <th>Quadratmeterpreis_Brutto</th>\n",
       "      <th>Adresse</th>\n",
       "      <th>PLZ_Ort</th>\n",
       "      <th>Bezugsdatum</th>\n",
       "      <th>GKODE</th>\n",
       "      <th>GKODN</th>\n",
       "      <th>KT</th>\n",
       "      <th>Ort</th>\n",
       "      <th>PLZ</th>\n",
       "    </tr>\n",
       "  </thead>\n",
       "  <tbody>\n",
       "    <tr>\n",
       "      <th>0</th>\n",
       "      <td>2019</td>\n",
       "      <td>4</td>\n",
       "      <td>Wohnung</td>\n",
       "      <td>4.5</td>\n",
       "      <td>NaN</td>\n",
       "      <td>1850</td>\n",
       "      <td>NaN</td>\n",
       "      <td>Aachstrasse 13</td>\n",
       "      <td>9327 Tübach</td>\n",
       "      <td>NaN</td>\n",
       "      <td>2752059.0</td>\n",
       "      <td>1261281.0</td>\n",
       "      <td>SG</td>\n",
       "      <td>Tübach</td>\n",
       "      <td>9327</td>\n",
       "    </tr>\n",
       "    <tr>\n",
       "      <th>1</th>\n",
       "      <td>2019</td>\n",
       "      <td>2</td>\n",
       "      <td>Wohnung</td>\n",
       "      <td>3.5</td>\n",
       "      <td>75.0</td>\n",
       "      <td>1180</td>\n",
       "      <td>16.0</td>\n",
       "      <td>Aachstrasse 29</td>\n",
       "      <td>8586 Erlen</td>\n",
       "      <td>NaN</td>\n",
       "      <td>2734483.0</td>\n",
       "      <td>1268102.0</td>\n",
       "      <td>TG</td>\n",
       "      <td>Erlen</td>\n",
       "      <td>8586</td>\n",
       "    </tr>\n",
       "    <tr>\n",
       "      <th>2</th>\n",
       "      <td>2019</td>\n",
       "      <td>4</td>\n",
       "      <td>Maisonettewohnung</td>\n",
       "      <td>3.5</td>\n",
       "      <td>NaN</td>\n",
       "      <td>1400</td>\n",
       "      <td>NaN</td>\n",
       "      <td>Aachstrasse 31b</td>\n",
       "      <td>8586 Erlen</td>\n",
       "      <td>NaN</td>\n",
       "      <td>2734427.0</td>\n",
       "      <td>1268073.0</td>\n",
       "      <td>TG</td>\n",
       "      <td>Erlen</td>\n",
       "      <td>8586</td>\n",
       "    </tr>\n",
       "    <tr>\n",
       "      <th>3</th>\n",
       "      <td>2019</td>\n",
       "      <td>2</td>\n",
       "      <td>Wohnung</td>\n",
       "      <td>4.5</td>\n",
       "      <td>NaN</td>\n",
       "      <td>1750</td>\n",
       "      <td>NaN</td>\n",
       "      <td>Aachstrasse 5</td>\n",
       "      <td>9327 Tübach</td>\n",
       "      <td>NaN</td>\n",
       "      <td>2751994.0</td>\n",
       "      <td>1261267.0</td>\n",
       "      <td>SG</td>\n",
       "      <td>Tübach</td>\n",
       "      <td>9327</td>\n",
       "    </tr>\n",
       "    <tr>\n",
       "      <th>4</th>\n",
       "      <td>2019</td>\n",
       "      <td>2</td>\n",
       "      <td>Wohnung</td>\n",
       "      <td>5.5</td>\n",
       "      <td>NaN</td>\n",
       "      <td>2450</td>\n",
       "      <td>NaN</td>\n",
       "      <td>Aachstrasse 5</td>\n",
       "      <td>9327 Tübach</td>\n",
       "      <td>NaN</td>\n",
       "      <td>2751994.0</td>\n",
       "      <td>1261267.0</td>\n",
       "      <td>SG</td>\n",
       "      <td>Tübach</td>\n",
       "      <td>9327</td>\n",
       "    </tr>\n",
       "  </tbody>\n",
       "</table>\n",
       "</div>"
      ],
      "text/plain": [
       "   Jahr  Quartal        Wohnungstyp  Zimmer  Fläche  Mietpreis_Brutto  \\\n",
       "0  2019        4            Wohnung     4.5     NaN              1850   \n",
       "1  2019        2            Wohnung     3.5    75.0              1180   \n",
       "2  2019        4  Maisonettewohnung     3.5     NaN              1400   \n",
       "3  2019        2            Wohnung     4.5     NaN              1750   \n",
       "4  2019        2            Wohnung     5.5     NaN              2450   \n",
       "\n",
       "   Quadratmeterpreis_Brutto          Adresse      PLZ_Ort Bezugsdatum  \\\n",
       "0                       NaN   Aachstrasse 13  9327 Tübach         NaN   \n",
       "1                      16.0   Aachstrasse 29   8586 Erlen         NaN   \n",
       "2                       NaN  Aachstrasse 31b   8586 Erlen         NaN   \n",
       "3                       NaN    Aachstrasse 5  9327 Tübach         NaN   \n",
       "4                       NaN    Aachstrasse 5  9327 Tübach         NaN   \n",
       "\n",
       "       GKODE      GKODN  KT     Ort   PLZ  \n",
       "0  2752059.0  1261281.0  SG  Tübach  9327  \n",
       "1  2734483.0  1268102.0  TG   Erlen  8586  \n",
       "2  2734427.0  1268073.0  TG   Erlen  8586  \n",
       "3  2751994.0  1261267.0  SG  Tübach  9327  \n",
       "4  2751994.0  1261267.0  SG  Tübach  9327  "
      ]
     },
     "execution_count": 3,
     "metadata": {},
     "output_type": "execute_result"
    }
   ],
   "source": [
    "rents_df[\"Ort\"] = rents_df[\"PLZ_Ort\"].str.split(\" \").str[1]\n",
    "rents_df[\"PLZ\"] = rents_df[\"PLZ_Ort\"].str.split(\" \").str[0].astype(\"int\")\n",
    "rents_df[\"KT,\"] = rents_df[\"KT,\"].str.replace(\",\", \"\")\n",
    "rents_df.rename(columns={\"KT,\": \"KT\"}, inplace=True)\n",
    "rents_df = rents_df.drop(columns=[\"ID\"])\n",
    "\n",
    "rents_df.head()"
   ]
  },
  {
   "cell_type": "markdown",
   "id": "04bd0a20-3617-4af9-8c21-f06c2c0f8753",
   "metadata": {},
   "source": [
    "### Converting Coordinates"
   ]
  },
  {
   "cell_type": "code",
   "execution_count": 42,
   "id": "fb33913c-6b65-4d7d-bdad-6949ba573bec",
   "metadata": {},
   "outputs": [],
   "source": [
    "long = []\n",
    "lat = []\n",
    "\n",
    "for i in range(len(rents_df)):    \n",
    "    r = requests.get(f'http://geodesy.geo.admin.ch/reframe/lv95towgs84?easting={rents_df.loc[i, \"GKODE\"]}&northing={rents_df.loc[i, \"GKODN\"]}&format=json')\n",
    "    coord_dict = json.loads(r.content)\n",
    "    long.append(coord_dict[\"easting\"])\n",
    "    lat.append(coord_dict[\"northing\"])\n"
   ]
  },
  {
   "cell_type": "code",
   "execution_count": 43,
   "id": "3879f58e-6d98-43e0-a1e0-df160a94c221",
   "metadata": {},
   "outputs": [],
   "source": [
    "rents_df[\"long\"] = long\n",
    "rents_df[\"lat\"] = lat"
   ]
  },
  {
   "cell_type": "code",
   "execution_count": 44,
   "id": "8a5f9b93-fcfa-44f5-b1df-07248c07c90a",
   "metadata": {},
   "outputs": [],
   "source": [
    "rents_df.to_csv(\"rents_with_coords.csv\", index=False)"
   ]
  },
  {
   "cell_type": "code",
   "execution_count": 1,
   "id": "54cd5858-fdad-406b-84b3-a7c500e7df71",
   "metadata": {},
   "outputs": [
    {
     "ename": "NameError",
     "evalue": "name 'pd' is not defined",
     "output_type": "error",
     "traceback": [
      "\u001b[0;31m---------------------------------------------------------------------------\u001b[0m",
      "\u001b[0;31mNameError\u001b[0m                                 Traceback (most recent call last)",
      "\u001b[0;32m<ipython-input-1-399b6b0751ce>\u001b[0m in \u001b[0;36m<module>\u001b[0;34m\u001b[0m\n\u001b[0;32m----> 1\u001b[0;31m \u001b[0mrents_df_coords\u001b[0m \u001b[0;34m=\u001b[0m \u001b[0mpd\u001b[0m\u001b[0;34m.\u001b[0m\u001b[0mread_csv\u001b[0m\u001b[0;34m(\u001b[0m\u001b[0;34m\"rents_with_coords.csv\"\u001b[0m\u001b[0;34m)\u001b[0m\u001b[0;34m\u001b[0m\u001b[0;34m\u001b[0m\u001b[0m\n\u001b[0m\u001b[1;32m      2\u001b[0m \u001b[0mrents_df_coords\u001b[0m\u001b[0;34m\u001b[0m\u001b[0;34m\u001b[0m\u001b[0m\n",
      "\u001b[0;31mNameError\u001b[0m: name 'pd' is not defined"
     ]
    }
   ],
   "source": [
    "rents_df_coords = pd.read_csv(\"rents_with_coords.csv\")\n",
    "rents_df_coords"
   ]
  },
  {
   "cell_type": "markdown",
   "id": "b32751cf-fd3e-42bf-925e-024d3a269531",
   "metadata": {},
   "source": [
    "### Exploration"
   ]
  },
  {
   "cell_type": "code",
   "execution_count": 4,
   "id": "ff8a9472-458f-4620-9848-b0be6ee71453",
   "metadata": {},
   "outputs": [
    {
     "data": {
      "text/plain": [
       "Jahr                          int64\n",
       "Quartal                       int64\n",
       "Wohnungstyp                  object\n",
       "Zimmer                      float64\n",
       "Fläche                      float64\n",
       "Mietpreis_Brutto              int64\n",
       "Quadratmeterpreis_Brutto    float64\n",
       "Adresse                      object\n",
       "PLZ_Ort                      object\n",
       "Bezugsdatum                  object\n",
       "GKODE                       float64\n",
       "GKODN                       float64\n",
       "KT,                          object\n",
       "Ort                          object\n",
       "PLZ                           int64\n",
       "dtype: object"
      ]
     },
     "execution_count": 4,
     "metadata": {},
     "output_type": "execute_result"
    }
   ],
   "source": [
    "rents_df.dtypes"
   ]
  },
  {
   "cell_type": "code",
   "execution_count": 46,
   "id": "c3f987cc-5f23-4815-95cd-7738d0a4ea0e",
   "metadata": {},
   "outputs": [
    {
     "data": {
      "text/plain": [
       "SG    8068\n",
       "ZH    6293\n",
       "BE    5998\n",
       "AG    5319\n",
       "LU    3640\n",
       "TG    3568\n",
       "BL    2485\n",
       "GR    2380\n",
       "TI    2375\n",
       "VD    2256\n",
       "SO    1987\n",
       "FR    1766\n",
       "NE    1553\n",
       "BS    1521\n",
       "SZ    1458\n",
       "VS    1261\n",
       "SH    1156\n",
       "AR     931\n",
       "JU     478\n",
       "GE     474\n",
       "GL     432\n",
       "ZG     390\n",
       "NW     345\n",
       "UR     283\n",
       "OW     192\n",
       "AI     168\n",
       "Name: KT, dtype: int64"
      ]
     },
     "execution_count": 46,
     "metadata": {},
     "output_type": "execute_result"
    }
   ],
   "source": [
    "rents_df[\"KT\"].value_counts()"
   ]
  },
  {
   "cell_type": "markdown",
   "id": "a1dd8ab3-40e6-49e4-8460-766d5977c210",
   "metadata": {},
   "source": [
    "## Subset: Zurich"
   ]
  },
  {
   "cell_type": "code",
   "execution_count": 5,
   "id": "d0401fb9-585b-4d86-adfe-41f974b1bbe8",
   "metadata": {},
   "outputs": [],
   "source": [
    "rents_df_zurich = rents_df[rents_df[\"Ort\"]==\"Zürich\"].dropna().reset_index(drop=True)"
   ]
  },
  {
   "cell_type": "code",
   "execution_count": 6,
   "id": "0eb1d6f7-df47-4f77-8012-fcaabb8bbba7",
   "metadata": {},
   "outputs": [],
   "source": [
    "rents_df_zurich.to_csv(\"zurich_rents_df.csv\", index=False)"
   ]
  },
  {
   "cell_type": "code",
   "execution_count": 7,
   "id": "ee4386b5-e281-4ca1-b395-2e1dacf934ab",
   "metadata": {},
   "outputs": [
    {
     "data": {
      "text/plain": [
       "Index(['Jahr', 'Quartal', 'Wohnungstyp', 'Zimmer', 'Fläche',\n",
       "       'Mietpreis_Brutto', 'Quadratmeterpreis_Brutto', 'Adresse', 'PLZ_Ort',\n",
       "       'Bezugsdatum', 'GKODE', 'GKODN', 'KT,', 'Ort', 'PLZ'],\n",
       "      dtype='object')"
      ]
     },
     "execution_count": 7,
     "metadata": {},
     "output_type": "execute_result"
    }
   ],
   "source": [
    "rents_df_zurich.columns"
   ]
  },
  {
   "cell_type": "markdown",
   "id": "ce7a283d-7c3a-47da-a619-3b9a554f8e4e",
   "metadata": {},
   "source": [
    "### Exploration"
   ]
  },
  {
   "cell_type": "code",
   "execution_count": 8,
   "id": "8ffdf568-201f-40ff-8512-705a9d18d435",
   "metadata": {},
   "outputs": [
    {
     "data": {
      "image/png": "[encoded data removed]",
      "text/plain": [
       "<Figure size 432x288 with 1 Axes>"
      ]
     },
     "metadata": {
      "needs_background": "light"
     },
     "output_type": "display_data"
    }
   ],
   "source": [
    "%matplotlib inline\n",
    "\n",
    "size = 5\n",
    "rents_df_zurich.plot.scatter(x='Zimmer', y='Mietpreis_Brutto', s=size, alpha=.5);"
   ]
  },
  {
   "cell_type": "code",
   "execution_count": 9,
   "id": "4f359824-2ff6-4c0e-8f25-95757d64651d",
   "metadata": {},
   "outputs": [],
   "source": [
    "from sklearn.model_selection import train_test_split\n",
    "\n",
    "X_train, X_test, y_train, y_test = train_test_split(rents_df_zurich[['Zimmer']].values, # X\n",
    "                                                    rents_df_zurich['Mietpreis_Brutto'].values, # y\n",
    "                                                    test_size=0.2, # %age of test split\n",
    "                                                    random_state=17) # ensure reproducibility"
   ]
  },
  {
   "cell_type": "code",
   "execution_count": 10,
   "id": "62848b53-6959-4980-8e4a-c723588b7061",
   "metadata": {},
   "outputs": [
    {
     "data": {
      "image/png": "[encoded data removed]",
      "text/plain": [
       "<Figure size 432x288 with 1 Axes>"
      ]
     },
     "metadata": {
      "needs_background": "light"
     },
     "output_type": "display_data"
    }
   ],
   "source": [
    "plt.scatter(X_train, y_train, color = 'blue', marker='o', alpha=.5)\n",
    "plt.scatter(X_test, y_test, color = 'red', marker='x', alpha=.5);"
   ]
  },
  {
   "cell_type": "markdown",
   "id": "898acf20-b19d-44f0-910a-5bf065296a45",
   "metadata": {},
   "source": [
    "### Linear Regression"
   ]
  },
  {
   "cell_type": "markdown",
   "id": "745ad279-b72e-4f14-b73d-692c4ece9caa",
   "metadata": {},
   "source": [
    "#### Check Results"
   ]
  },
  {
   "cell_type": "code",
   "execution_count": 11,
   "id": "9f4d3b41-36af-4e66-a469-a625da36e479",
   "metadata": {},
   "outputs": [],
   "source": [
    "from sklearn.linear_model import LinearRegression\n",
    "\n",
    "# instantiating the model\n",
    "regr = LinearRegression()\n",
    "\n",
    "# train the model on the training data\n",
    "regr.fit(X_train, y_train)\n",
    "\n",
    "# predict on the unseen test data\n",
    "pred = regr.predict(X_test)"
   ]
  },
  {
   "cell_type": "code",
   "execution_count": 12,
   "id": "d57438fc-9077-4f17-b68d-8b96d8d719ff",
   "metadata": {},
   "outputs": [
    {
     "data": {
      "text/plain": [
       "array([2864.13412081, 2585.52860188, 3142.73963975, 1471.10652614,\n",
       "       4535.76723443])"
      ]
     },
     "execution_count": 12,
     "metadata": {},
     "output_type": "execute_result"
    }
   ],
   "source": [
    "pred[:5]"
   ]
  },
  {
   "cell_type": "code",
   "execution_count": 13,
   "id": "9dd1c046-a010-4e6e-811f-4e795324e04a",
   "metadata": {},
   "outputs": [
    {
     "data": {
      "text/plain": [
       "array([ 3178,  3318,  2320,  1250, 11000])"
      ]
     },
     "execution_count": 13,
     "metadata": {},
     "output_type": "execute_result"
    }
   ],
   "source": [
    "y_test[:5]"
   ]
  },
  {
   "cell_type": "code",
   "execution_count": 14,
   "id": "1b05e556-89d1-4da4-9164-6358b059e662",
   "metadata": {},
   "outputs": [
    {
     "data": {
      "image/png": "[encoded data removed]",
      "text/plain": [
       "<Figure size 432x288 with 1 Axes>"
      ]
     },
     "metadata": {
      "needs_background": "light"
     },
     "output_type": "display_data"
    }
   ],
   "source": [
    "plt.scatter(X_test, pred, color = 'green', s=size, alpha=.8)\n",
    "plt.scatter(X_test, y_test, color = 'red', s=size, alpha=.5);"
   ]
  },
  {
   "cell_type": "code",
   "execution_count": 15,
   "id": "23b19548-f4b6-4e10-b676-2b5e4e6a3160",
   "metadata": {},
   "outputs": [
    {
     "name": "stdout",
     "output_type": "stream",
     "text": [
      "MAE 726.230142793783\n",
      "MSE 1212618.9859274076\n",
      "RMSE 1101.1898046782887\n",
      "R2 Score 0.3985290765324626\n"
     ]
    }
   ],
   "source": [
    "from sklearn import metrics\n",
    "\n",
    "print('MAE', metrics.mean_absolute_error(y_test, pred))\n",
    "print('MSE', metrics.mean_squared_error(y_test, pred))\n",
    "print('RMSE', np.sqrt(metrics.mean_squared_error(y_test, pred)))\n",
    "print('R2 Score', metrics.r2_score(y_test, pred))"
   ]
  },
  {
   "cell_type": "code",
   "execution_count": 16,
   "id": "c8338ec6-1850-41d7-913d-4d503b1cdad0",
   "metadata": {},
   "outputs": [
    {
     "data": {
      "text/plain": [
       "array([0.05362692, 0.33853907, 0.41740458, 0.31981147, 0.25741406,\n",
       "       0.49244302, 0.15240413, 0.42374996, 0.42859127, 0.41170007])"
      ]
     },
     "execution_count": 16,
     "metadata": {},
     "output_type": "execute_result"
    }
   ],
   "source": [
    "from sklearn.model_selection import cross_val_score\n",
    "\n",
    "scores = cross_val_score(regr, X_train, y_train, cv=10, scoring='r2')\n",
    "scores"
   ]
  },
  {
   "cell_type": "code",
   "execution_count": 17,
   "id": "2f81e7e3-0664-48b1-a6de-286ed384bc7b",
   "metadata": {},
   "outputs": [
    {
     "data": {
      "text/plain": [
       "0.32956845729522277"
      ]
     },
     "execution_count": 17,
     "metadata": {},
     "output_type": "execute_result"
    }
   ],
   "source": [
    "np.mean(scores)"
   ]
  },
  {
   "cell_type": "code",
   "execution_count": 18,
   "id": "726a0d48-b51f-477c-876b-0bc9ae19240b",
   "metadata": {},
   "outputs": [],
   "source": [
    "def plot_regression(X_train, X_test, y_train, y_test, predictions, plot_title):\n",
    "    \n",
    "    zipped = sorted(zip(X_test, predictions))\n",
    "\n",
    "    #extract variables from the list otherwise we cannot plot \n",
    "    X_test_sorted, y_pred_sorted = zip(*zipped)\n",
    "    plt.scatter(X_train, y_train, color = 'blue', label='Train')\n",
    "    plt.scatter(X_test, y_test, color = 'red', label='Test')\n",
    "    plt.plot(X_test_sorted, y_pred_sorted, color = 'black', label='Preds')\n",
    "    plt.title(plot_title)\n",
    "    plt.xlabel('X')\n",
    "    plt.ylabel('y')\n",
    "    plt.legend();"
   ]
  },
  {
   "cell_type": "code",
   "execution_count": 19,
   "id": "fd52263b-ff9d-4426-99ab-48b81b496900",
   "metadata": {},
   "outputs": [
    {
     "data": {
      "image/png": "[encoded data removed]",
      "text/plain": [
       "<Figure size 432x288 with 1 Axes>"
      ]
     },
     "metadata": {
      "needs_background": "light"
     },
     "output_type": "display_data"
    }
   ],
   "source": [
    "plot_regression(\n",
    "    X_train,\n",
    "    X_test,\n",
    "    y_train,\n",
    "    y_test,\n",
    "    pred,\n",
    "    \"X vs y (Training & Test set)\",\n",
    ")"
   ]
  },
  {
   "cell_type": "markdown",
   "id": "e7419846-c90d-4002-9cef-984d62d0ac6d",
   "metadata": {},
   "source": [
    "#### Pipeline"
   ]
  },
  {
   "cell_type": "code",
   "execution_count": 20,
   "id": "90603680-280e-4b3e-8607-475b9282b451",
   "metadata": {},
   "outputs": [],
   "source": [
    "from sklearn.model_selection import train_test_split\n",
    "\n",
    "X_train, X_test, y_train, y_test = train_test_split(rents_df_zurich.select_dtypes([\"int64\", \"float64\"]).drop(columns=[\"Mietpreis_Brutto\", \"Quadratmeterpreis_Brutto\"]).values,\n",
    "                                                    rents_df_zurich['Mietpreis_Brutto'].values, \n",
    "                                                    test_size=0.2, \n",
    "                                                    random_state=17)"
   ]
  },
  {
   "cell_type": "code",
   "execution_count": 21,
   "id": "9b1294bf-6541-4737-bdc9-b2d00ac4907b",
   "metadata": {},
   "outputs": [
    {
     "data": {
      "text/plain": [
       "Pipeline(steps=[('standard_scale', StandardScaler()),\n",
       "                ('modeling', LinearRegression())])"
      ]
     },
     "execution_count": 21,
     "metadata": {},
     "output_type": "execute_result"
    }
   ],
   "source": [
    "from sklearn.pipeline import Pipeline\n",
    "from sklearn.preprocessing import StandardScaler\n",
    "pipeline3 = Pipeline(steps = [(\"standard_scale\", StandardScaler()),\n",
    "                              (\"modeling\", LinearRegression())])\n",
    "\n",
    "pipeline3"
   ]
  },
  {
   "cell_type": "code",
   "execution_count": 22,
   "id": "83e659ad-6225-45d9-bbc9-121d0d82c127",
   "metadata": {},
   "outputs": [
    {
     "data": {
      "text/plain": [
       "array([0.67591077, 0.61208386, 0.63382895, 0.59608188, 0.55872714])"
      ]
     },
     "execution_count": 22,
     "metadata": {},
     "output_type": "execute_result"
    }
   ],
   "source": [
    "scores = cross_val_score(pipeline3, X_train, y_train, cv=5, scoring='r2')\n",
    "scores"
   ]
  },
  {
   "cell_type": "code",
   "execution_count": 23,
   "id": "ebb9728d-0f6e-45a3-8bc0-d5be926c3b71",
   "metadata": {},
   "outputs": [
    {
     "data": {
      "text/plain": [
       "0.6153265198430068"
      ]
     },
     "execution_count": 23,
     "metadata": {},
     "output_type": "execute_result"
    }
   ],
   "source": [
    "np.mean(scores)"
   ]
  },
  {
   "cell_type": "code",
   "execution_count": 24,
   "id": "45f4f993-afc6-46c2-a2dd-67a62d964c3f",
   "metadata": {},
   "outputs": [],
   "source": [
    "pipeline3.fit(X_train, y_train)\n",
    "\n",
    "pred6 = pipeline3.predict(X_test)"
   ]
  },
  {
   "cell_type": "code",
   "execution_count": 25,
   "id": "7bfe0e77-0a75-49f4-83bf-bbddd24c8b61",
   "metadata": {},
   "outputs": [
    {
     "data": {
      "text/plain": [
       "(array([ 3178,  3318,  2320,  1250, 11000]),\n",
       " array([2930.25144538, 2966.30607214, 2606.45286674, 1588.73520146,\n",
       "        5282.30619116]))"
      ]
     },
     "execution_count": 25,
     "metadata": {},
     "output_type": "execute_result"
    }
   ],
   "source": [
    "y_test[:5], pred6[:5]"
   ]
  },
  {
   "cell_type": "code",
   "execution_count": 26,
   "id": "abc47c1c-af42-467d-abcd-839b7e72c342",
   "metadata": {},
   "outputs": [
    {
     "name": "stdout",
     "output_type": "stream",
     "text": [
      "MAE 548.9214232240266\n",
      "MSE 771969.8374254995\n",
      "RMSE 878.6181408470345\n",
      "R2 Score 0.617095380829543\n"
     ]
    }
   ],
   "source": [
    "print('MAE', metrics.mean_absolute_error(y_test, pred6))\n",
    "print('MSE', metrics.mean_squared_error(y_test, pred6))\n",
    "print('RMSE', np.sqrt(metrics.mean_squared_error(y_test, pred6)))\n",
    "print('R2 Score', metrics.r2_score(y_test, pred6))"
   ]
  }
 ],
 "metadata": {
  "kernelspec": {
   "display_name": "ml-082021",
   "language": "python",
   "name": "ml-082021"
  },
  "language_info": {
   "codemirror_mode": {
    "name": "ipython",
    "version": 3
   },
   "file_extension": ".py",
   "mimetype": "text/x-python",
   "name": "python",
   "nbconvert_exporter": "python",
   "pygments_lexer": "ipython3",
   "version": "3.9.6"
  },
  "toc-autonumbering": true
 },
 "nbformat": 4,
 "nbformat_minor": 5
}
